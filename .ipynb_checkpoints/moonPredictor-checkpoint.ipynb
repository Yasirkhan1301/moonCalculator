{
 "cells": [
  {
   "cell_type": "code",
   "execution_count": null,
   "id": "6f747504",
   "metadata": {},
   "outputs": [],
   "source": []
  },
  {
   "cell_type": "code",
   "execution_count": null,
   "id": "6b79b388",
   "metadata": {},
   "outputs": [],
   "source": [
    "#installing a package\n",
    "#!pip3 install <package name> "
   ]
  },
  {
   "cell_type": "code",
   "execution_count": 2,
   "id": "18de828e",
   "metadata": {},
   "outputs": [],
   "source": [
    "import pandas as pd\n",
    "import math \n",
    "import os\n",
    "from fpdf import FPDF\n",
    "import webbrowser"
   ]
  },
  {
   "cell_type": "code",
   "execution_count": 3,
   "id": "3c2c52f9",
   "metadata": {
    "code_folding": [
     1,
     7,
     56,
     62,
     75,
     95,
     104,
     171
    ]
   },
   "outputs": [],
   "source": [
    "class MoonCalc:\n",
    "    def __init__(self,file_path,date,Month,year):\n",
    "            self.path = file_path\n",
    "            self.date = date\n",
    "            self.month = Month\n",
    "            self.year = year\n",
    "    def data(self,*args):\n",
    "        def set_axis(df):\n",
    "            values = [\"year\",\"h\",\"cd\",\"conj\",\n",
    "                      \"f\",\"wk\",\"mon\",\"day\",\"set\",\n",
    "                      \"Saz\",\"age\",\"Alt\",\"Maz\",\"dz\",\n",
    "                      \"Mag\",\"El\",\"mset\",\"lag\",\"best\",\"cat\"]\n",
    "            df.set_axis(values,axis = 'columns',inplace = True)\n",
    "            return df            \n",
    "        def illum(a):#converting elongation to illumination\n",
    "            val = 50*(1-math.cos(math.radians(a)))\n",
    "            val = round(val, 1)\n",
    "            return val\n",
    "        try:\n",
    "            df = pd.read_fwf(args[0]+'\\\\'+args[1])\n",
    "        except:\n",
    "            print(f\"path format would be : ..\\\\{directoryname}\\\\\")\n",
    "        else: \n",
    "            df = set_axis(df)\n",
    "            dfa = df.drop(['f','Mag','wk'],axis = 1)\n",
    "            dfs = dfa.loc[:,:'conj']\n",
    "            dfd = dfa.loc[:,'mon':'cat']\n",
    "            dfd.fillna(method = 'bfill',inplace = True)\n",
    "            dfs.fillna(method = 'ffill',inplace = True)\n",
    "    #         #combining dfs\n",
    "            dfg = dfs.combine_first(dfd)\n",
    "            dfg.drop_duplicates(inplace = True)\n",
    "            dfg.dropna(inplace = True)\n",
    "    #         pd.set_option(\"display.max_rows\", None,'display.max_columns', None)\n",
    "            #set correct formats\n",
    "            liste = ['conj','set','mset','best']\n",
    "            for x in liste:dfg[x] = dfg[x].replace(' ',':',regex=True)\n",
    "            listf = ['cd','day','year','lag','Alt','Saz','dz','Maz']\n",
    "            for x in listf:dfg[x] = (dfg[x].astype(int)).astype(str)\n",
    "            dfg['mon'] = dfg['mon'].str[:3]\n",
    "            dfg['h'] = dfg['h'].str[:3]\n",
    "            dfg['date'] = dfg['day']+dfg['mon']+dfg['year']\n",
    "            dfg['date'] = pd.to_datetime(dfg['date'],format = '%d%b%Y')\n",
    "            dfg = dfg.set_index('date')\n",
    "            #create conjunction time column \n",
    "            dfg['conj_time'] = dfg['cd']+dfg['h']+dfg['year']+' '+dfg['conj']\n",
    "            dfg['conj_time'] = pd.to_datetime(dfg['conj_time'])\n",
    "            #create station column\n",
    "            if args:\n",
    "                dfg['Station'] = args[1].split('.',1)[0]\n",
    "            else:\n",
    "                dfg['Station'] = self.loc\n",
    "            #Illumination calculation in func-->illum using Elongation \n",
    "            dfg['El'] = dfg['El'].astype(int)\n",
    "            dfg['ilum'] =  dfg.apply(lambda row : illum(row['El']), axis = 1)\n",
    "            return dfg        #load data\n",
    "    def sort(self,*args):#sorting the columns in desired order\n",
    "        df = self.data(args[0],args[1])\n",
    "        dfs = pd.DataFrame(df[['Station','set','lag','Alt','Saz','dz','El','ilum','cat','age','conj_time']])\n",
    "        sorter = ['Karachi', 'Quetta','Lahore','Islamabad','Peshawar','Jiwani','Gilgit','Multan','Muzaffarabad']\n",
    "        dfs.Station = dfs.Station.astype(\"category\").cat.set_categories(sorter)\n",
    "        return dfs        \n",
    "    def all_files(self):# read all files and returns its df\n",
    "        directory = self.path\n",
    "        d = []\n",
    "        df = pd.DataFrame()\n",
    "        if os.path.exists(directory) == True:\n",
    "            for root, dirs, files in os.walk(directory):\n",
    "                for filename in files:\n",
    "                    d = pd.DataFrame(self.sort(root,filename))\n",
    "                    df = df.append(d)  \n",
    "                return df\n",
    "        else: \n",
    "            print(\"path format would be : ..\\\\directoryname\\\\\")\n",
    "            return(df)             \n",
    "    def calculate(self):#returns df with required values                \n",
    "        dfs = self.all_files()\n",
    "        date = self.date\n",
    "        dfd = pd.DataFrame()\n",
    "        if dfs.empty == False:\n",
    "            if dfs.loc[date].empty == False:\n",
    "                dfs = dfs.loc[date].sort_values(['Station'])\n",
    "                dfd = dfs.loc[:,:'cat']\n",
    "                dfd.Station = dfd.Station.astype(str) + \"(\" + dfd.set.astype(str)+\")\"\n",
    "                dfd.drop(columns = \"set\", inplace = True)\n",
    "                dfd.rename(columns = {'Station':'STATION(Sunset)','lag':'LAG TIME(Minutes)','Alt':'MOON ALTITUDE(Degrees)', \n",
    "                                      'Saz':'SUN_AZIMUTH(Degrees)',\n",
    "                                      'dz':'DAZ(Degrees)',\n",
    "                                      'El':'ELONGATION(Degrees)','ilum':'ILLUMINATION(%)',\n",
    "                                      'cat':'CRITERION'}, inplace = True)\n",
    "               \n",
    "                    \n",
    "                return dfd\n",
    "            else:\n",
    "                return dfd\n",
    "    def jiwani(self):\n",
    "        date = self.date\n",
    "        dfs = self.all_files()\n",
    "        date = self.date\n",
    "        if dfs.empty == False:\n",
    "            if dfs.loc[date].empty == False:\n",
    "                dfs = dfs.loc[date].sort_values(['Station'])\n",
    "                dfs = dfs.loc[dfs.Station == \"Jiwani\"]\n",
    "        return(dfs)# return df with jiwani row only\n",
    "    def pdf(self):\n",
    "        Format = \"Arial\"\n",
    "        \n",
    "        data = {'Station':'STATION   (Sunset)','lag':'LAG TIME(Min)','Alt':'MOON ALTITUDE(Deg)', \n",
    "                                      'Saz':'SUN_AZIMUTH(Deg)',\n",
    "                                      'dz':'DAZ(Deg)      ',\n",
    "                                      'El':'ELONGATION(Deg)','ilum':'ILLUMINATION(%)',\n",
    "                                      'cat':'CRITERION     '}\n",
    "        df = self.calculate()\n",
    "        if df.empty == True: return print(\"Nothing Found\")\n",
    "        jiwani = self.jiwani()\n",
    "        dt = str(jiwani.conj_time.dt.strftime(\"%Y-%m-%d\").values[0])\n",
    "        tm = str(jiwani.conj_time.dt.strftime(\"%H:%M:%S\").values[0])\n",
    "        age = jiwani.age.values[0].split(\" \")\n",
    "        pdf = FPDF('L', 'mm','A4')\n",
    "        pdf.add_page()\n",
    "        pdf.set_font(Format,'B',16)\n",
    "        h = 7\n",
    "        w = 297\n",
    "        pdf.cell(w, h, txt = \"PARAMETERS OF THE NEW MOON \"+self.month+ \" \"+ self.year,ln = 1, align = 'C')\n",
    "        pdf.cell(w, h, txt = \"AT THE TIME OF SUNSET ON \"+self.date,ln = 1, align = 'C')\n",
    "        pdf.cell(w, h, txt = f\"(Conjunction on {dt} {tm} PST) \",ln = 1, align = 'C')\n",
    "        pdf.cell(w, h, txt = f\"Moon Age at the time of Sunset on {self.date} (Jiwani): {age[0]} hrs {age[1]} mins\",ln = 1, align = 'C')\n",
    "        pdf.ln() \n",
    "        pdf.set_font(Format,'B',12)\n",
    "        li = []\n",
    "        for x in data.values():li.append(x)\n",
    "        width = [40,30,38,33,22,31,33,26,40,40]\n",
    "        start = 25\n",
    "        pdf.x = start\n",
    "        offset = pdf.x + width[0]\n",
    "        sx = pdf.x\n",
    "        i = 0\n",
    "        top = 45\n",
    "        pdf.y = top\n",
    "        for head in li:    \n",
    "            pdf.multi_cell(width[i],7,head,border = 1,align = \"C\")\n",
    "            # Reset y coordinate\n",
    "            pdf.y = top\n",
    "            # Move to computed offset    \n",
    "            pdf.x = offset\n",
    "            i += 1\n",
    "            offset = offset+ width[i]\n",
    "        h = pdf.font_size * 2.2\n",
    "        pdf.y = 59\n",
    "        pdf.set_font(Format,'',12)\n",
    "        for index, row in df.iterrows():\n",
    "            i = 0\n",
    "            pdf.x = start\n",
    "            for data in row.values:\n",
    "                pdf.cell(width[i], h, str(data),border = 1,align='C') # write each data for the row in its cell\n",
    "                i +=1  \n",
    "            pdf.ln()      \n",
    "        lines = [\"A  Easily visible\",\n",
    "                         \"B  Visible under perfect conditions\",\n",
    "                         \"C  May need optical aid to find the crescent Moon\",\n",
    "                        \"D  Will need optical aid to find the crescent Moon\",\n",
    "                        \"E  Not visible with a telescope\",\n",
    "                        \"F  Not visible, below the Danjon limit\"]\n",
    "        pdf.ln()\n",
    "        pdf.set_font(Format, 'B', 12)\n",
    "        h = 5\n",
    "        pdf.cell(297, h, txt =\"Visibility Criterion: \",ln = 1, align = 'L')\n",
    "        pdf.set_font(Format, '', 12)\n",
    "        for line in lines:pdf.cell(297, h, txt = line,ln = 1, align = 'L') \n",
    "        pdf.output('tuto1.pdf','F')\n",
    "        webbrowser.open_new('tuto1.pdf')        # save pdf\n",
    "    def csv(self,loc):\n",
    "        df = set_date()\n",
    "        df.to_csv(loc+self.date+\".csv\",index = False)        #save csv"
   ]
  },
  {
   "cell_type": "code",
   "execution_count": 7,
   "id": "96b7003d",
   "metadata": {},
   "outputs": [
    {
     "name": "stdout",
     "output_type": "stream",
     "text": [
      "Input data directory wrt code file: ..\\\\Cities data\n",
      "Date: 2023-02-20\n",
      "Islamic Month: SHABAN\n",
      "Islamic year: 1444\n"
     ]
    }
   ],
   "source": [
    "path = input(\"Input data directory wrt code file: \")\n",
    "date = input(\"Date: \")\n",
    "month = input(\"Islamic Month: \")\n",
    "year = input(\"Islamic year: \")\n",
    "Moon = MoonCalc(path,date,month,year +\" AH\")\n",
    "Moon.pdf()"
   ]
  },
  {
   "cell_type": "code",
   "execution_count": null,
   "id": "a634547c",
   "metadata": {},
   "outputs": [],
   "source": []
  },
  {
   "cell_type": "code",
   "execution_count": null,
   "id": "8883d73c",
   "metadata": {},
   "outputs": [],
   "source": []
  },
  {
   "cell_type": "code",
   "execution_count": null,
   "id": "15899465",
   "metadata": {},
   "outputs": [],
   "source": []
  },
  {
   "cell_type": "code",
   "execution_count": null,
   "id": "4df86388",
   "metadata": {},
   "outputs": [],
   "source": []
  },
  {
   "cell_type": "code",
   "execution_count": null,
   "id": "ac1ed2e4",
   "metadata": {},
   "outputs": [],
   "source": []
  },
  {
   "cell_type": "code",
   "execution_count": null,
   "id": "d828533e",
   "metadata": {},
   "outputs": [],
   "source": []
  },
  {
   "cell_type": "code",
   "execution_count": null,
   "id": "c4fe984f",
   "metadata": {},
   "outputs": [],
   "source": [
    "# jiwani = Moon.jiwani()\n",
    "# jiwani.age.values[0].split(\" \")[0]\n",
    "# jiwani.conj_time.dt.strftime(\"%H:%M:%S\").values[0]\n",
    "# jiwani.conj_time.dt.strftime(\"%m/%d/%Y\").values[0]\n",
    "# jiwani.conj_time.values\n",
    "# Moon.to_pdf(df,\"..\\\\pdf\\\\\")"
   ]
  },
  {
   "cell_type": "code",
   "execution_count": null,
   "id": "ffad4385",
   "metadata": {
    "code_folding": [
     2,
     39
    ]
   },
   "outputs": [],
   "source": [
    "from fpdf import FPDF\n",
    "import webbrowser\n",
    "data = {'Station':'STATION   (Sunset)','lag':'LAG TIME(Min)','Alt':'MOON ALTITUDE(Deg)', \n",
    "                                      'Saz':'SUN_AZIMUTH(Deg)',\n",
    "                                      'dz':'DAZ(Deg)      ',\n",
    "                                      'El':'ELONGATION(Deg)','ilum':'ILLUMINATION(%)',\n",
    "                                      'cat':'CRITERION     '}\n",
    "pdf = FPDF('L', 'mm','A4')\n",
    "pdf.add_page()\n",
    "pdf.set_font('Arial','B',16)\n",
    "h = 7\n",
    "w = 297\n",
    "pdf.cell(w, h, txt = \"PARAMETERS OF THE NEW MOON SHAWWAL 1440 AH\",ln = 1, align = 'C')\n",
    "pdf.cell(w, h, txt = \"AT THE TIME OF SUNSET ON 04-06-2019\",ln = 1, align = 'C')\n",
    "pdf.cell(w, h, txt = \"(Conjunction on 03 June, 2019 15:02 PST) \",ln = 1, align = 'C')\n",
    "pdf.cell(w, h, txt = \"Moon Age at the time of Sunset on 04-06-2019 (Jiwani):  28 hrs 38 mins\",ln = 1, align = 'C')\n",
    "pdf.ln() \n",
    "pdf.set_font('Arial','B',12)\n",
    "li = []\n",
    "for x in data.values():li.append(x)\n",
    "width = [40,30,38,33,22,31,33,26,40,40]\n",
    "start = 25\n",
    "pdf.x = start\n",
    "offset = pdf.x + width[0]\n",
    "sx = pdf.x\n",
    "i = 0\n",
    "top = 45\n",
    "pdf.y = top\n",
    "for head in li:    \n",
    "    pdf.multi_cell(width[i],7,head,border = 1,align = \"C\")\n",
    "    # Reset y coordinate\n",
    "    pdf.y = top\n",
    "    # Move to computed offset    \n",
    "    pdf.x = offset\n",
    "    i += 1\n",
    "    offset = offset+ width[i]\n",
    "h = pdf.font_size * 2.2\n",
    "pdf.y = 59\n",
    "pdf.set_font('Arial','',12)\n",
    "for index, row in df.iterrows():\n",
    "    i = 0\n",
    "    pdf.x = start\n",
    "    for data in row.values:\n",
    "        pdf.cell(width[i], h, str(data),border = 1,align='C') # write each data for the row in its cell\n",
    "        i +=1  \n",
    "    pdf.ln()      \n",
    "lines = [\"A  Easily visible\",\n",
    "                 \"B  Visible under perfect conditions\",\n",
    "                 \"C  May need optical aid to find the crescent Moon\",\n",
    "                \"D  Will need optical aid to find the crescent Moon\",\n",
    "                \"E  Not visible with a telescope\",\n",
    "                \"F  Not visible, below the Danjon limit\"]\n",
    "pdf.ln()\n",
    "pdf.set_font(\"Arial\", 'B', 12)\n",
    "h = 5\n",
    "pdf.cell(297, h, txt =\"Visibility Criterion: \",ln = 1, align = 'L')\n",
    "pdf.set_font(\"Arial\", '', 12)\n",
    "for line in lines:pdf.cell(297, h, txt = line,ln = 1, align = 'L') \n",
    "pdf.output('tuto1.pdf','F')\n",
    "webbrowser.open_new('tuto1.pdf')"
   ]
  },
  {
   "cell_type": "code",
   "execution_count": null,
   "id": "b93ed46d",
   "metadata": {},
   "outputs": [],
   "source": []
  },
  {
   "cell_type": "code",
   "execution_count": null,
   "id": "14264eac",
   "metadata": {},
   "outputs": [],
   "source": []
  },
  {
   "cell_type": "code",
   "execution_count": null,
   "id": "82ce1d39",
   "metadata": {},
   "outputs": [],
   "source": []
  },
  {
   "cell_type": "code",
   "execution_count": null,
   "id": "0b192b6c",
   "metadata": {},
   "outputs": [],
   "source": []
  },
  {
   "cell_type": "code",
   "execution_count": null,
   "id": "c6ecde1c",
   "metadata": {},
   "outputs": [],
   "source": []
  },
  {
   "cell_type": "code",
   "execution_count": null,
   "id": "3d0c1975",
   "metadata": {},
   "outputs": [],
   "source": []
  },
  {
   "cell_type": "code",
   "execution_count": null,
   "id": "684773a9",
   "metadata": {},
   "outputs": [],
   "source": []
  },
  {
   "cell_type": "code",
   "execution_count": null,
   "id": "2e20b949",
   "metadata": {},
   "outputs": [],
   "source": []
  },
  {
   "cell_type": "code",
   "execution_count": null,
   "id": "a110194b",
   "metadata": {
    "code_folding": [
     2,
     19,
     28
    ]
   },
   "outputs": [],
   "source": [
    "#Portrait version\n",
    "from fpdf import FPDF\n",
    "import webbrowser\n",
    "data = {'Station':'STATION(Sunset)         ','lag':'LAG TIME(Min)','Alt':'MOON ALTITUDE(Deg)', \n",
    "                                      'Saz':'SUN_AZIMUTH(Deg)',\n",
    "                                      'dz':'DAZ(Deg)      ',\n",
    "                                      'El':'ELONGATION(Deg)','ilum':'ILLUMINATION(%)',\n",
    "                                      'cat':'CRITERION     '}\n",
    "pdf=FPDF()\n",
    "pdf.add_page()\n",
    "pdf.set_font('Arial','B',12)\n",
    "h = 7\n",
    "w = 210\n",
    "pdf.cell(w, h, txt = \"PARAMETERS OF THE NEW MOON SHAWWAL 1440 AH\",ln = 1, align = 'C')\n",
    "pdf.cell(w, h, txt = \"AT THE TIME OF SUNSET ON 04-06-2019\",ln = 1, align = 'C')\n",
    "pdf.cell(w, h, txt = \"(Conjunction on 03 June, 2019 15:02 PST) \",ln = 1, align = 'C')\n",
    "pdf.cell(w, h, txt = \"Moon Age at the time of Sunset on 04-06-2019 (Jiwani):  28 hrs 38 mins\",ln = 1, align = 'C')\n",
    "pdf.ln() \n",
    "pdf.set_font('Arial','B',8)\n",
    "li = []\n",
    "for x in data.values():\n",
    "    li.append(x)\n",
    "width = [29,17,24,23,17,21,23,19,25,25]\n",
    "start = 20\n",
    "pdf.x = start\n",
    "offset = pdf.x + width[0]\n",
    "sx = pdf.x\n",
    "i = 0\n",
    "top = 45\n",
    "for head in li:    \n",
    "    pdf.multi_cell(width[i],7,head,border = 1,align = \"C\")\n",
    "    # Reset y coordinate\n",
    "    pdf.y = top\n",
    "    # Move to computed offset    \n",
    "    pdf.x = offset\n",
    "    i += 1\n",
    "    offset = offset+ width[i]\n",
    "h = pdf.font_size * 2.8\n",
    "pdf.y = 59\n",
    "pdf.set_font('Arial','',8)\n",
    "for index, row in df.iterrows():\n",
    "    i = 0\n",
    "    pdf.x = start\n",
    "    for data in row.values:\n",
    "        pdf.cell(width[i], h, str(data),border = 1,align='C') # write each data for the row in its cell\n",
    "        i +=1  \n",
    "    pdf.ln()  \n",
    "lines = [\"A  Easily visible\",\n",
    "                 \"B  Visible under perfect conditions\",\n",
    "                 \"C  May need optical aid to find the crescent Moon\",\n",
    "                \"D  Will need optical aid to find the crescent Moon\",\n",
    "                \"E  Not visible with a telescope\",\n",
    "                \"F  Not visible, below the Danjon limit\"]\n",
    "pdf.ln()\n",
    "pdf.set_font(\"Arial\", 'B', 11)\n",
    "pdf.cell(297, h, txt =\"Visibility Criterion: \",ln = 1, align = 'L')\n",
    "pdf.set_font(\"Arial\", '', 11)\n",
    "for line in lines:pdf.cell(297, h, txt = line,ln = 1, align = 'L') \n",
    "pdf.output('tuto1.pdf','F')\n",
    "webbrowser.open_new('tuto1.pdf')"
   ]
  },
  {
   "cell_type": "code",
   "execution_count": null,
   "id": "7eebbcd5",
   "metadata": {},
   "outputs": [],
   "source": []
  },
  {
   "cell_type": "code",
   "execution_count": null,
   "id": "95ed5cd2",
   "metadata": {},
   "outputs": [],
   "source": []
  },
  {
   "cell_type": "code",
   "execution_count": null,
   "id": "176f674e",
   "metadata": {
    "code_folding": [
     2,
     17
    ]
   },
   "outputs": [],
   "source": [
    "\n",
    "class pdfgene:\n",
    "    def __init__(self,year):\n",
    "        self.year = year\n",
    "    def pdf(self):\n",
    "        df = MoonCalc()\n",
    "        dfd = df.date()\n",
    "        pdf = FPDF('L', 'mm','A4')\n",
    "        pdf.add_page()\n",
    "        pdf.set_font(\"Arial\", 'B', 16)\n",
    "        pdf.cell(297, 10, txt = \"PARAMETERS OF THE NEW MOON SHAWWAL 1440 AH\",ln = 1, align = 'C')\n",
    "        pdf.cell(297, 10, txt = \"AT THE TIME OF SUNSET ON 04-06-2019\",ln = 1, align = 'C')\n",
    "        pdf.cell(297, 10, txt = \"(Conjunction on 03 June, 2019 15:02 PST) \",ln = 1, align = 'C')\n",
    "        pdf.cell(297, 10, txt = \"Moon Age at the time of Sunset on 04-06-2019 (Jiwani):  28 hrs 38 mins\",ln = 1, align = 'C')\n",
    "        pdf.ln() \n",
    "        pdf.set_font(\"Arial\", 'B', 12)\n",
    "        h = pdf.font_size * 2\n",
    "        for (colname, colval) in dfd.iteritems():\n",
    "            pdf.cell(38,h,str(colname),align='C', border = 1)\n",
    "        pdf.set_font(\"Arial\", '', 12)\n",
    "        h = pdf.font_size * 2\n",
    "        for index, row in dfd.iterrows():    \n",
    "            for data in row.values:\n",
    "                pdf.cell(38, h, str(data),border = 1,align='C')  # write each data for the row in its cell\n",
    "            pdf.ln()  \n",
    "        pdf.set_font(\"Arial\", 'BU', 11)\n",
    "        h = pdf.font_size * 1.8\n",
    "        lines = [\"A  Easily visible\",\n",
    "                 \"B  Visible under perfect conditions\",\n",
    "                 \"C  May need optical aid to find the crescent Moon\",\n",
    "                \"D  Will need optical aid to find the crescent Moon\",\n",
    "                \"E  Not visible with a telescope\",\n",
    "                \"F  Not visible, below the Danjon limit\"]\n",
    "        pdf.set_font(\"Arial\", 'B', 11)\n",
    "        pdf.cell(297, h, txt =\"Visibility Criterion: \",ln = 1, align = 'L')\n",
    "        pdf.set_font(\"Arial\", '', 11)\n",
    "        for line in lines:pdf.cell(297, h, txt = line,ln = 1, align = 'L')    \n",
    "        root = \"..\\\\pdf\\\\\"\n",
    "        current_dateTime = datetime.now()\n",
    "        fn = str(current_dateTime)[:19].split(\":\")\n",
    "        pdf.output(root+fn[0]+fn[1]+fn[2]+\".pdf\")        "
   ]
  },
  {
   "cell_type": "code",
   "execution_count": null,
   "id": "5cc8884a",
   "metadata": {},
   "outputs": [],
   "source": [
    "d = pdfgene(\"2022\")\n",
    "d.pdf()"
   ]
  },
  {
   "cell_type": "code",
   "execution_count": null,
   "id": "ea28ffdb",
   "metadata": {},
   "outputs": [],
   "source": []
  },
  {
   "cell_type": "code",
   "execution_count": null,
   "id": "c834f5bb",
   "metadata": {},
   "outputs": [],
   "source": []
  },
  {
   "cell_type": "code",
   "execution_count": null,
   "id": "196fa23e",
   "metadata": {},
   "outputs": [],
   "source": []
  },
  {
   "cell_type": "code",
   "execution_count": null,
   "id": "d4c9f814",
   "metadata": {},
   "outputs": [],
   "source": []
  },
  {
   "cell_type": "code",
   "execution_count": null,
   "id": "d537d4fd",
   "metadata": {},
   "outputs": [],
   "source": [
    "from fpdf import FPDF\n",
    "pdf = FPDF('L', 'mm','A4')\n",
    "pdf.add_page()\n",
    "pdf.set_font(\"Arial\", 'B', 16)\n",
    "h = pdf.font_size * 1.8\n",
    "for \n",
    "for (colname, colval) in dfd.iteritems():\n",
    "    for \n",
    "    pdf.cell(31,h,str(colname),align='C', border = 1)\n",
    "\n",
    "root = \"..\\\\pdf\\\\\"\n",
    "pdf.output(root+\"2222.pdf\")\n"
   ]
  },
  {
   "cell_type": "code",
   "execution_count": null,
   "id": "dbe6495b",
   "metadata": {},
   "outputs": [],
   "source": [
    "\n",
    "        pdf.cell(297, h, txt = ,ln = 1, align = 'L')\n",
    "        pdf.cell(297, h, txt = ,ln =1, align = 'L')\n",
    "        pdf.cell(297, h, txt = ,ln = 1, align = 'L')\n",
    "        pdf.cell(297, h, txt = ,ln = 1, align = 'L')\n",
    "        pdf.cell(297, h, txt = ,ln = 1, align = 'L')\n"
   ]
  },
  {
   "cell_type": "code",
   "execution_count": null,
   "id": "d38ee603",
   "metadata": {},
   "outputs": [],
   "source": []
  },
  {
   "cell_type": "code",
   "execution_count": null,
   "id": "6e21a064",
   "metadata": {},
   "outputs": [],
   "source": []
  },
  {
   "cell_type": "code",
   "execution_count": null,
   "id": "6d0956a2",
   "metadata": {},
   "outputs": [],
   "source": [
    "# pdf.set_font(\"Arial\", '', 11)\n",
    "#     pdf.ln()\n",
    "#     pdf.cell(31, h, str(colval),align='C',border = 1)  \n",
    "# pdf.ln()\n",
    "# for (colname, colval) in dfd.iteritems():\n",
    "# #     pdf.ln()\n",
    "#     for val in colval:\n",
    "#         pdf.multi_cell(31, h, str(val),align='C',border = 1)   \n",
    "# #         pdf.ln()"
   ]
  },
  {
   "cell_type": "code",
   "execution_count": null,
   "id": "6f3a5fb3",
   "metadata": {},
   "outputs": [],
   "source": []
  },
  {
   "cell_type": "code",
   "execution_count": null,
   "id": "0068b6ee",
   "metadata": {},
   "outputs": [],
   "source": []
  },
  {
   "cell_type": "code",
   "execution_count": null,
   "id": "fd49f883",
   "metadata": {},
   "outputs": [],
   "source": []
  },
  {
   "cell_type": "code",
   "execution_count": null,
   "id": "a5f42752",
   "metadata": {},
   "outputs": [],
   "source": [
    "# dfs.sort_values(['Station'])\n",
    "# dfs.loc[dfs['Station'] == 'Peshawar']\n",
    "# dfs[dfs.index.duplicated(keep = False)]\n",
    "# print(df.data())"
   ]
  },
  {
   "cell_type": "code",
   "execution_count": null,
   "id": "8f120621",
   "metadata": {},
   "outputs": [],
   "source": []
  },
  {
   "cell_type": "code",
   "execution_count": null,
   "id": "c851e6c8",
   "metadata": {},
   "outputs": [],
   "source": []
  },
  {
   "cell_type": "code",
   "execution_count": null,
   "id": "51ca0fac",
   "metadata": {},
   "outputs": [],
   "source": [
    "df = pd.read_fwf('..\\Cities data\\Gilgit.txt')\n",
    "pd.set_option(\"display.max_rows\", None,'display.max_columns', None)"
   ]
  },
  {
   "cell_type": "code",
   "execution_count": null,
   "id": "cfae52b5",
   "metadata": {},
   "outputs": [],
   "source": [
    "dfa = df.drop(['f','h','Mag','wk'],axis = 1)"
   ]
  },
  {
   "cell_type": "code",
   "execution_count": null,
   "id": "ffb3e35a",
   "metadata": {},
   "outputs": [],
   "source": [
    "dfs = dfa.loc[:,:'conj']\n",
    "dfd = dfa.loc[:,'day':'cat']\n",
    "dfd.fillna(method = 'bfill',inplace = True)\n",
    "dfs.fillna(method = 'ffill',inplace = True)"
   ]
  },
  {
   "cell_type": "code",
   "execution_count": null,
   "id": "935052a8",
   "metadata": {},
   "outputs": [],
   "source": [
    "dfg = dfs.combine_first(dfd)\n",
    "dfg.drop_duplicates(inplace = True)\n",
    "dfg.dropna(inplace = True)"
   ]
  },
  {
   "cell_type": "code",
   "execution_count": null,
   "id": "4a38ece5",
   "metadata": {},
   "outputs": [],
   "source": [
    "#set correct formats\n",
    "liste = ['conj','set','mset','best']\n",
    "for x in liste:dfg[x] = dfg[x].replace(' ',':',regex=True)\n",
    "listf = ['cd','day','year','lag','El','Alt','Saz','dz','Maz']\n",
    "for x in listf:dfg[x] = (dfg[x].astype(int)).astype(str)\n",
    "dfg['mon'] = dfg['mon'].str[:3]"
   ]
  },
  {
   "cell_type": "code",
   "execution_count": null,
   "id": "1c333ecd",
   "metadata": {},
   "outputs": [],
   "source": [
    "dfg['date'] = dfg['day']+dfg['mon']+dfg['year']\n",
    "dfg['date'] = pd.to_datetime(dfg['date'],format = '%d%b%Y')\n",
    "dfg = dfg.set_index('date')"
   ]
  },
  {
   "cell_type": "code",
   "execution_count": null,
   "id": "6d2196a3",
   "metadata": {},
   "outputs": [],
   "source": [
    "dfg['conjunction'] = dfg['cd']+dfg['mon']+dfg['year']+' '+dfg['conj']\n",
    "dfg['conjunction'] = pd.to_datetime(dfg['conjunction'])"
   ]
  },
  {
   "cell_type": "code",
   "execution_count": null,
   "id": "430af4e2",
   "metadata": {},
   "outputs": [],
   "source": [
    "\n",
    "\n",
    "# dfg['set'] = pd.to_datetime(dfg['set'])\n",
    "# dfg['set'] = dfg['set'].dt.time"
   ]
  },
  {
   "cell_type": "code",
   "execution_count": null,
   "id": "a6b84176",
   "metadata": {},
   "outputs": [],
   "source": []
  },
  {
   "cell_type": "code",
   "execution_count": null,
   "id": "92fcb671",
   "metadata": {},
   "outputs": [],
   "source": []
  },
  {
   "cell_type": "code",
   "execution_count": null,
   "id": "6a85d556",
   "metadata": {},
   "outputs": [],
   "source": []
  },
  {
   "cell_type": "code",
   "execution_count": null,
   "id": "5f4540ac",
   "metadata": {},
   "outputs": [],
   "source": []
  },
  {
   "cell_type": "code",
   "execution_count": null,
   "id": "bc9a5366",
   "metadata": {},
   "outputs": [],
   "source": []
  },
  {
   "cell_type": "code",
   "execution_count": null,
   "id": "aef43942",
   "metadata": {},
   "outputs": [],
   "source": []
  }
 ],
 "metadata": {
  "kernelspec": {
   "display_name": "Python 3",
   "language": "python",
   "name": "python3"
  },
  "language_info": {
   "codemirror_mode": {
    "name": "ipython",
    "version": 3
   },
   "file_extension": ".py",
   "mimetype": "text/x-python",
   "name": "python",
   "nbconvert_exporter": "python",
   "pygments_lexer": "ipython3",
   "version": "3.6.13"
  },
  "varInspector": {
   "cols": {
    "lenName": 16,
    "lenType": 16,
    "lenVar": 40
   },
   "kernels_config": {
    "python": {
     "delete_cmd_postfix": "",
     "delete_cmd_prefix": "del ",
     "library": "var_list.py",
     "varRefreshCmd": "print(var_dic_list())"
    },
    "r": {
     "delete_cmd_postfix": ") ",
     "delete_cmd_prefix": "rm(",
     "library": "var_list.r",
     "varRefreshCmd": "cat(var_dic_list()) "
    }
   },
   "types_to_exclude": [
    "module",
    "function",
    "builtin_function_or_method",
    "instance",
    "_Feature"
   ],
   "window_display": false
  }
 },
 "nbformat": 4,
 "nbformat_minor": 5
}
